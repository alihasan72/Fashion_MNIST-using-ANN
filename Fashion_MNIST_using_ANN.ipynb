{
  "nbformat": 4,
  "nbformat_minor": 0,
  "metadata": {
    "colab": {
      "provenance": []
    },
    "kernelspec": {
      "name": "python3",
      "display_name": "Python 3"
    },
    "language_info": {
      "name": "python"
    },
    "accelerator": "GPU",
    "gpuClass": "standard"
  },
  "cells": [
    {
      "cell_type": "code",
      "source": [
        "# Classes in Fashion-MNIST Data Set\n",
        "\n",
        "# 0: T-shirt/top\n",
        "# 1: Trouser\n",
        "# 2: Pullover\n",
        "# 3: Dress\n",
        "# 4: Coat\n",
        "# 5: Sandal\n",
        "# 6: Shirt\n",
        "# 7: Sneaker\n",
        "# 8: Bag\n",
        "# 9: Ankle boot"
      ],
      "metadata": {
        "id": "ED5KCgKu63ne"
      },
      "execution_count": 1,
      "outputs": []
    },
    {
      "cell_type": "code",
      "execution_count": 2,
      "metadata": {
        "id": "k3X8V88qRQM4"
      },
      "outputs": [],
      "source": [
        "# Importing Libraries\n",
        "import numpy as np\n",
        "import matplotlib.pyplot as plt\n",
        "import keras\n",
        "from keras.models import Sequential\n",
        "from keras.layers import Dense, Flatten"
      ]
    },
    {
      "cell_type": "code",
      "source": [
        "# Loading Data Set\n",
        "from keras.datasets import fashion_mnist\n",
        "a = (X_train, y_train),(X_test, y_test) = fashion_mnist.load_data()"
      ],
      "metadata": {
        "id": "8DfyOsp4R2dR"
      },
      "execution_count": 3,
      "outputs": []
    },
    {
      "cell_type": "code",
      "source": [
        " "
      ],
      "metadata": {
        "id": "KtGqgEYc5Iks"
      },
      "execution_count": 3,
      "outputs": []
    },
    {
      "cell_type": "code",
      "source": [
        "# Showing the Data\n",
        "plt.imshow(X_train[0]) \n",
        "plt.title('Class: {}'.format(y_train[0]))\n",
        "plt.figure()"
      ],
      "metadata": {
        "colab": {
          "base_uri": "https://localhost:8080/",
          "height": 316
        },
        "id": "9FyNX1dlSNRK",
        "outputId": "eeaf1b3a-b2ac-4940-bc8a-5913823e48f1"
      },
      "execution_count": 5,
      "outputs": [
        {
          "output_type": "execute_result",
          "data": {
            "text/plain": [
              "<Figure size 432x288 with 0 Axes>"
            ]
          },
          "metadata": {},
          "execution_count": 5
        },
        {
          "output_type": "display_data",
          "data": {
            "text/plain": [
              "<Figure size 432x288 with 1 Axes>"
            ],
            "image/png": "[encoded data removed]"
          },
          "metadata": {
            "needs_background": "light"
          }
        },
        {
          "output_type": "display_data",
          "data": {
            "text/plain": [
              "<Figure size 432x288 with 0 Axes>"
            ]
          },
          "metadata": {}
        }
      ]
    },
    {
      "cell_type": "code",
      "source": [
        "# Normalizing the Data\n",
        "X_train = keras.utils.normalize(X_train, axis=1)\n",
        "X_test = keras.utils.normalize(X_test, axis=1)\n",
        "plt.imshow(X_train[0])\n",
        "plt.title('Class:{}'.format(y_train[0]))\n",
        "plt.figure()"
      ],
      "metadata": {
        "colab": {
          "base_uri": "https://localhost:8080/",
          "height": 316
        },
        "id": "xYRUDBStSe1N",
        "outputId": "5c83224c-4bb9-4e87-f202-d958bb9c396f"
      },
      "execution_count": 6,
      "outputs": [
        {
          "output_type": "execute_result",
          "data": {
            "text/plain": [
              "<Figure size 432x288 with 0 Axes>"
            ]
          },
          "metadata": {},
          "execution_count": 6
        },
        {
          "output_type": "display_data",
          "data": {
            "text/plain": [
              "<Figure size 432x288 with 1 Axes>"
            ],
            "image/png": "[encoded data removed]"
          },
          "metadata": {
            "needs_background": "light"
          }
        },
        {
          "output_type": "display_data",
          "data": {
            "text/plain": [
              "<Figure size 432x288 with 0 Axes>"
            ]
          },
          "metadata": {}
        }
      ]
    },
    {
      "cell_type": "code",
      "source": [
        "# Model Building\n",
        "model = Sequential()\n",
        "model.add(Flatten(input_shape=((28,28))))\n",
        "model.add(Dense(200,activation='relu'))\n",
        "model.add(Dense(10,activation='softmax'))"
      ],
      "metadata": {
        "id": "3b1vGyz9UClG"
      },
      "execution_count": 7,
      "outputs": []
    },
    {
      "cell_type": "code",
      "source": [
        "# Compiling the Model\n",
        "model.compile(optimizer='adam',loss='sparse_categorical_crossentropy', metrics=['accuracy'])"
      ],
      "metadata": {
        "id": "iXSTyKN7VGA1"
      },
      "execution_count": 8,
      "outputs": []
    },
    {
      "cell_type": "code",
      "source": [
        "# Fitting the Model\n",
        "model.fit(X_train,y_train,epochs=20)"
      ],
      "metadata": {
        "colab": {
          "base_uri": "https://localhost:8080/"
        },
        "id": "TfNoOHV_Vd1t",
        "outputId": "bf8f117e-6aa6-433c-b502-2b8a078c0a34"
      },
      "execution_count": 9,
      "outputs": [
        {
          "output_type": "stream",
          "name": "stdout",
          "text": [
            "Epoch 1/20\n",
            "1875/1875 [==============================] - 5s 2ms/step - loss: 0.4928 - accuracy: 0.8209\n",
            "Epoch 2/20\n",
            "1875/1875 [==============================] - 4s 2ms/step - loss: 0.3605 - accuracy: 0.8678\n",
            "Epoch 3/20\n",
            "1875/1875 [==============================] - 4s 2ms/step - loss: 0.3208 - accuracy: 0.8813\n",
            "Epoch 4/20\n",
            "1875/1875 [==============================] - 4s 2ms/step - loss: 0.2957 - accuracy: 0.8889\n",
            "Epoch 5/20\n",
            "1875/1875 [==============================] - 4s 2ms/step - loss: 0.2780 - accuracy: 0.8972\n",
            "Epoch 6/20\n",
            "1875/1875 [==============================] - 4s 2ms/step - loss: 0.2624 - accuracy: 0.9004\n",
            "Epoch 7/20\n",
            "1875/1875 [==============================] - 4s 2ms/step - loss: 0.2484 - accuracy: 0.9067\n",
            "Epoch 8/20\n",
            "1875/1875 [==============================] - 4s 2ms/step - loss: 0.2377 - accuracy: 0.9109\n",
            "Epoch 9/20\n",
            "1875/1875 [==============================] - 4s 2ms/step - loss: 0.2251 - accuracy: 0.9148\n",
            "Epoch 10/20\n",
            "1875/1875 [==============================] - 4s 2ms/step - loss: 0.2172 - accuracy: 0.9186\n",
            "Epoch 11/20\n",
            "1875/1875 [==============================] - 4s 2ms/step - loss: 0.2067 - accuracy: 0.9222\n",
            "Epoch 12/20\n",
            "1875/1875 [==============================] - 4s 2ms/step - loss: 0.2003 - accuracy: 0.9240\n",
            "Epoch 13/20\n",
            "1875/1875 [==============================] - 4s 2ms/step - loss: 0.1914 - accuracy: 0.9282\n",
            "Epoch 14/20\n",
            "1875/1875 [==============================] - 4s 2ms/step - loss: 0.1845 - accuracy: 0.9298\n",
            "Epoch 15/20\n",
            "1875/1875 [==============================] - 4s 2ms/step - loss: 0.1783 - accuracy: 0.9328\n",
            "Epoch 16/20\n",
            "1875/1875 [==============================] - 4s 2ms/step - loss: 0.1693 - accuracy: 0.9374\n",
            "Epoch 17/20\n",
            "1875/1875 [==============================] - 4s 2ms/step - loss: 0.1658 - accuracy: 0.9377\n",
            "Epoch 18/20\n",
            "1875/1875 [==============================] - 4s 2ms/step - loss: 0.1579 - accuracy: 0.9405\n",
            "Epoch 19/20\n",
            "1875/1875 [==============================] - 4s 2ms/step - loss: 0.1520 - accuracy: 0.9428\n",
            "Epoch 20/20\n",
            "1875/1875 [==============================] - 4s 2ms/step - loss: 0.1484 - accuracy: 0.9439\n"
          ]
        },
        {
          "output_type": "execute_result",
          "data": {
            "text/plain": [
              "<keras.callbacks.History at 0x7fc7937d9250>"
            ]
          },
          "metadata": {},
          "execution_count": 9
        }
      ]
    },
    {
      "cell_type": "code",
      "source": [
        "# Evaluating on the Test Data\n",
        "model.evaluate(X_test,y_test)"
      ],
      "metadata": {
        "colab": {
          "base_uri": "https://localhost:8080/"
        },
        "id": "N3RzUZpWWGHo",
        "outputId": "d6f30c46-2ab4-45be-ca93-8e622d8a6cf1"
      },
      "execution_count": 10,
      "outputs": [
        {
          "output_type": "stream",
          "name": "stdout",
          "text": [
            "313/313 [==============================] - 1s 2ms/step - loss: 0.3558 - accuracy: 0.8902\n"
          ]
        },
        {
          "output_type": "execute_result",
          "data": {
            "text/plain": [
              "[0.3557523190975189, 0.8902000188827515]"
            ]
          },
          "metadata": {},
          "execution_count": 10
        }
      ]
    },
    {
      "cell_type": "code",
      "source": [
        "# Predicting the first 10 images, Probability Distribution\n",
        "p = model.predict(X_test[0:10])\n",
        "p"
      ],
      "metadata": {
        "colab": {
          "base_uri": "https://localhost:8080/"
        },
        "id": "3KaiICl1bBpO",
        "outputId": "f7c17acc-d26c-4a0a-e1e2-a19ce2a0f189"
      },
      "execution_count": 11,
      "outputs": [
        {
          "output_type": "stream",
          "name": "stdout",
          "text": [
            "1/1 [==============================] - 0s 60ms/step\n"
          ]
        },
        {
          "output_type": "execute_result",
          "data": {
            "text/plain": [
              "array([[1.30239231e-11, 2.54304252e-16, 9.58239911e-12, 4.31051098e-11,\n",
              "        1.88731016e-13, 2.94781898e-06, 1.21792271e-10, 1.26185812e-04,\n",
              "        9.60188018e-09, 9.99870896e-01],\n",
              "       [1.60987105e-03, 1.82945429e-13, 9.94422615e-01, 6.02406081e-09,\n",
              "        1.32376328e-03, 3.55991396e-08, 2.64376961e-03, 1.61205823e-11,\n",
              "        2.30468436e-10, 3.44197448e-11],\n",
              "       [2.03121697e-08, 1.00000000e+00, 1.26013859e-12, 8.00114996e-09,\n",
              "        2.32867503e-10, 1.41387280e-15, 2.62879302e-10, 6.80151067e-15,\n",
              "        5.91611775e-13, 1.21283165e-17],\n",
              "       [7.20059401e-10, 9.99999881e-01, 3.86250331e-13, 8.87122837e-08,\n",
              "        6.27803573e-11, 8.63244999e-16, 7.09052470e-11, 1.26500591e-15,\n",
              "        1.16947076e-15, 1.25503940e-19],\n",
              "       [3.55955213e-01, 1.69499748e-10, 3.04941088e-04, 2.23935986e-05,\n",
              "        5.76775637e-04, 6.82907197e-09, 6.43140733e-01, 2.36803697e-12,\n",
              "        2.93486813e-09, 2.01184121e-11],\n",
              "       [2.92873369e-06, 9.99996781e-01, 3.40509700e-08, 5.43727374e-08,\n",
              "        9.45789083e-08, 4.89665139e-14, 1.53884265e-08, 1.46979234e-11,\n",
              "        6.92184981e-12, 3.13313067e-16],\n",
              "       [8.47100068e-07, 4.40620793e-13, 3.94170219e-03, 5.83445847e-10,\n",
              "        9.96044636e-01, 4.06020328e-09, 1.28357915e-05, 5.98562185e-15,\n",
              "        2.36187971e-14, 3.53579709e-17],\n",
              "       [2.45450707e-07, 2.79351890e-15, 2.56459665e-04, 1.85727451e-08,\n",
              "        5.19670248e-05, 7.17778004e-10, 9.99691367e-01, 3.85860816e-10,\n",
              "        3.04404657e-12, 2.85584956e-09],\n",
              "       [6.16786761e-11, 3.55562494e-17, 4.03454966e-13, 1.69163544e-15,\n",
              "        2.01186832e-12, 1.00000000e+00, 1.14397464e-10, 3.48966446e-11,\n",
              "        6.60688778e-12, 9.07680043e-17],\n",
              "       [6.08670964e-14, 5.51894693e-16, 3.46321787e-14, 2.86257114e-15,\n",
              "        7.77856113e-11, 8.79455854e-07, 6.71163537e-13, 9.99996781e-01,\n",
              "        4.29143432e-09, 2.42436136e-06]], dtype=float32)"
            ]
          },
          "metadata": {},
          "execution_count": 11
        }
      ]
    },
    {
      "cell_type": "code",
      "source": [
        "pred = np.argmax(p, axis=1)\n",
        "print(pred)\n",
        "print(y_test[:10])"
      ],
      "metadata": {
        "colab": {
          "base_uri": "https://localhost:8080/"
        },
        "id": "yNHjYXBhbp5v",
        "outputId": "47fdfcff-9d39-430f-cbc4-6d008cd7ec66"
      },
      "execution_count": 13,
      "outputs": [
        {
          "output_type": "stream",
          "name": "stdout",
          "text": [
            "[9 2 1 1 6 1 4 6 5 7]\n",
            "[9 2 1 1 6 1 4 6 5 7]\n"
          ]
        }
      ]
    },
    {
      "cell_type": "code",
      "source": [
        "# Visualizing the Result  \n",
        "for i in range(10):\n",
        "  plt.imshow(X_test[i], cmap=\"binary\")\n",
        "  plt.title('Original: {}, Predicted: {}'.format(y_test[i],pred[i]))\n",
        "  plt.axis(\"off\")\n",
        "  plt.figure()"
      ],
      "metadata": {
        "colab": {
          "base_uri": "https://localhost:8080/",
          "height": 1000
        },
        "id": "b4iM8xeHfsjZ",
        "outputId": "1ad80667-abcc-455a-85e7-0d5aae8cbd6a"
      },
      "execution_count": 14,
      "outputs": [
        {
          "output_type": "display_data",
          "data": {
            "text/plain": [
              "<Figure size 432x288 with 1 Axes>"
            ],
            "image/png": "[encoded data removed]"
          },
          "metadata": {
            "needs_background": "light"
          }
        },
        {
          "output_type": "display_data",
          "data": {
            "text/plain": [
              "<Figure size 432x288 with 1 Axes>"
            ],
            "image/png": "[encoded data removed]"
          },
          "metadata": {
            "needs_background": "light"
          }
        },
        {
          "output_type": "display_data",
          "data": {
            "text/plain": [
              "<Figure size 432x288 with 1 Axes>"
            ],
            "image/png": "[encoded data removed]"
          },
          "metadata": {
            "needs_background": "light"
          }
        },
        {
          "output_type": "display_data",
          "data": {
            "text/plain": [
              "<Figure size 432x288 with 1 Axes>"
            ],
            "image/png": "[encoded data removed]"
          },
          "metadata": {
            "needs_background": "light"
          }
        },
        {
          "output_type": "display_data",
          "data": {
            "text/plain": [
              "<Figure size 432x288 with 1 Axes>"
            ],
            "image/png": "[encoded data removed]"
          },
          "metadata": {
            "needs_background": "light"
          }
        },
        {
          "output_type": "display_data",
          "data": {
            "text/plain": [
              "<Figure size 432x288 with 1 Axes>"
            ],
            "image/png": "[encoded data removed]"
          },
          "metadata": {
            "needs_background": "light"
          }
        },
        {
          "output_type": "display_data",
          "data": {
            "text/plain": [
              "<Figure size 432x288 with 1 Axes>"
            ],
            "image/png": "[encoded data removed]"
          },
          "metadata": {
            "needs_background": "light"
          }
        },
        {
          "output_type": "display_data",
          "data": {
            "text/plain": [
              "<Figure size 432x288 with 1 Axes>"
            ],
            "image/png": "[encoded data removed]"
          },
          "metadata": {
            "needs_background": "light"
          }
        },
        {
          "output_type": "display_data",
          "data": {
            "text/plain": [
              "<Figure size 432x288 with 1 Axes>"
            ],
            "image/png": "[encoded data removed]"
          },
          "metadata": {
            "needs_background": "light"
          }
        },
        {
          "output_type": "display_data",
          "data": {
            "text/plain": [
              "<Figure size 432x288 with 1 Axes>"
            ],
            "image/png": "[encoded data removed]"
          },
          "metadata": {
            "needs_background": "light"
          }
        },
        {
          "output_type": "display_data",
          "data": {
            "text/plain": [
              "<Figure size 432x288 with 0 Axes>"
            ]
          },
          "metadata": {}
        }
      ]
    }
  ]
}